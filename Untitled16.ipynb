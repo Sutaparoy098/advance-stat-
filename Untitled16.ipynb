{
  "nbformat": 4,
  "nbformat_minor": 0,
  "metadata": {
    "colab": {
      "provenance": []
    },
    "kernelspec": {
      "name": "python3",
      "display_name": "Python 3"
    },
    "language_info": {
      "name": "python"
    }
  },
  "cells": [
    {
      "cell_type": "markdown",
      "source": [
        "1. Define the z statistic and explain it relationship to the standard normal distribution . How is the z statistic used in hypothesis testing ?\n",
        "\n",
        "ANS :  A z statistic  is used to determine whether two populatin means aredifferent when the variance are known and the sample size is large .it can also be used to compare one mean to a hypothesized value .\n",
        "\n",
        "\n",
        "z= x-$\\mu$/$\\sigma$\n",
        "\n",
        "where\n",
        "\n",
        "x=is the observed value or sample mean,\n",
        "\n",
        "\n",
        "$\\mu$=is the population mean,\n",
        "\n",
        "\n",
        "$\\sigma$=is the population standard deviation.\n",
        "\n",
        "\n",
        "The z statistic transforms a normally distributed variable into a standard normal distribution, which has a mean of 0 and a standard deviation of 1. This transformation allows researchers to compare scores from different normal distributions or to determine probabilities associated with the z statistic using standard normal distribution tables.\n",
        "\n",
        "firstly we have to start with null hypothesis and an alternative hypothesis .\n",
        "\n",
        "then calcutaed the z statistic using above formula.\n",
        "\n",
        " to determinate the significant level , we have to choose a significant level to decide whether to reject the null hypothesis .\n",
        "\n",
        " then using standard normal distribution to find the critical z values corresponding to the chosen alpha level.\n",
        "\n",
        " if the calculated z statistic  is greater than the critical value or falls into the rejection region , we reject the null hypothesis.\n",
        "\n",
        " based on the decision ,we conclude whether there is  sufficent evidence to support the alternative hypothesis.\n",
        "\n",
        "\n",
        "\n",
        "\n"
      ],
      "metadata": {
        "id": "ZKhtQ7OOGjFK"
      }
    },
    {
      "cell_type": "markdown",
      "source": [
        "2.what is a p value and how is it used in hypothesis testing? what does it mean if the p value is very small(e.g.,0.01)?\n",
        "\n",
        "ANS :  The p-value serves as an alternative to rejection points to provide the smallest level of significance at which the null hypothesis would be rejected. A smaller p-value means stronger evidence in favor of the alternative hypothesis.\n",
        "\n",
        "\n",
        "\n",
        "\n",
        "If the p-value is very small (e.g., 0.01), it suggests strong evidence against the null hypothesis. In this case, you would reject the null hypothesis, indicating that the observed effect is statistically significant. Specifically, a p-value of 0.01 means there is only a 1% chance that the observed data (or something more extreme) would occur if the null hypothesis were true.\n",
        "\n"
      ],
      "metadata": {
        "id": "vNGCTnQNeoyp"
      }
    },
    {
      "cell_type": "markdown",
      "source": [
        "3. Compare and contrast the binomial and bernoulli distribution.\n",
        "\n",
        "Ans:Bernoulli distribution\n",
        "Models the outcome of a single trial with two possible outcomes, success or failure. For example, you could use the Bernoulli distribution to model whether a student passes or fails an exam.\n",
        "Binomial distribution\n",
        "Models the number of successes in multiple trials. For example, you could use the binomial distribution to find the probability that a student passes exactly four out of five exams.\n",
        "\n",
        "\n",
        "In essence, the Bernoulli distribution is a special case of the Binomial distribution where the number of trial n equal to 1. The Binomial distribution extends the Bernoulli distribution to multiple trials.\n",
        "."
      ],
      "metadata": {
        "id": "JyghCJsEDFqM"
      }
    },
    {
      "cell_type": "markdown",
      "source": [
        "4.Under what conditions is the  binomial distribution used, and how does it relate to the bernoulli distribution ?\n",
        "\n",
        "ANS : 1) The random experiment is performed repeatedly a finite and fixed number of time in otherwords the number of trials (n) is finite and fixed .\n",
        "\n",
        "2)there are only two possible outcomes of random experiment either success or failure .\n",
        "\n",
        "3) The trials are independent .\n",
        "\n",
        "\n",
        "The Bernoulli distribution can be considered a special case of the Binomial distribution where the number of trials\n",
        "n=1.\n",
        "\n",
        "When we have multiple Bernoulli trials (each with the same probability\n",
        "p), the Binomial distribution describes the total number of successes across those n trials.\n"
      ],
      "metadata": {
        "id": "YNaj3s5jFejK"
      }
    },
    {
      "cell_type": "markdown",
      "source": [
        "5. What are the key poperties of the possion distribution and when is it appropiate to use this distribution ?\n",
        "\n",
        "Ans :\n",
        "\n",
        "1) it is a distribution for discrete random variable\n",
        "\n",
        "2) it is uni parametric distribution as there is only one parameter\n",
        "$\\lambda$\n",
        "\n",
        "3) the mean of distribution\n",
        "$\\lambda$\n",
        "and  variance is also\n",
        "$\\lambda$,\n",
        "mean = variance\n",
        "\n",
        "4) poission distribution is positively skewed distribution.\n",
        "\n",
        "5)sum of two independent possion variantes is also poission .\n",
        "\n",
        "\n",
        "poission distribution is used when\n",
        "\n",
        "1) the probability of finding success in vert small interval .\n",
        "\n",
        "2) the probability of having more than one success in the time interval is very small.\n",
        "\n",
        "\n"
      ],
      "metadata": {
        "id": "EX9hWtWLFG5Z"
      }
    },
    {
      "cell_type": "markdown",
      "source": [
        "6.Define the trems \"probability distribution \" and probability density function (pdf). how does a pdf differ from a probability mass function (pmf)?\n",
        "\n",
        "Ans:  Probability Distribution: A probability distribution describes how the probabilities of a random variable are distributed across its possible values. It provides a comprehensive way to characterize the likelihood of different outcomes for a random variable.\n",
        "\n",
        "Probability density function : Probability density function is the function that represents the density of probability for a continuous random variable over the specified ranges.\n",
        "\n",
        "\n",
        "Probability Density Function ( PDF)  for a continuous random variable X, Probability Density Function is denoted by f(x).\n",
        "\n",
        "PDF of the random variable is obtained by differentiating CDF (Cumulative Distribution Function) of X. The probability density function should be a positive for all possible values of the variable. The total area between the density curve and the x-axis should be equal to 1.\n",
        "\n",
        "The  pmf is used for discrete random variable  but the pdf is used for continuous  random variable ."
      ],
      "metadata": {
        "id": "JvavEREeJldT"
      }
    },
    {
      "cell_type": "markdown",
      "source": [
        "7. Explain the Central Limit Therorem (CLT) with example .\n",
        "\n",
        "ANS: When large samples usually greater than thirty are taken into consideration then the distribution of sample arithmetic mean approaches the normal distribution irrespective of the fact that random variables were originally distributed normally or not.\n",
        "\n",
        "example: Population: All adult men in the city (this population may have a non-normal distribution of heights).\n",
        "\n",
        "Sample Size: You decide to take samples of size 30 (which is generally considered large enough for the CLT to apply).\n",
        "\n",
        "Sampling Process: You repeatedly take samples of 30 men and calculate the average height for each sample. Let’s say you take 100 samples.\n",
        "\n",
        "Distribution of Sample Means: Each of these samples will have its own mean height. According to the CLT, if you plot the means of these 100 samples, the distribution of the sample means will approach a normal distribution, even if the distribution of heights in the population is skewed.\n",
        "\n",
        "Mean and Standard Deviation: The mean of the sample means will be approximately equal to the population mean, and the standard deviation of the sample means (called the standard error) will be equal to the population standard deviation divided by the square root of the sample size ."
      ],
      "metadata": {
        "id": "O8sP5ehwOv3F"
      }
    },
    {
      "cell_type": "markdown",
      "source": [
        "8. compare z scores and t scores. when should we use a z score and when should a t score be applied instead?\n",
        "\n",
        "ANS :   : A z-score measures how many standard deviations a data point is from the mean of a distribution.\n",
        "\n",
        "z score measure by\n",
        "\n",
        "$$ z = \\frac{(X - \\mu)}{\\sigma} $$\n",
        "\n",
        "X = value\n",
        "μ = population mean\n",
        "σ = population standard deviation\n",
        "\n",
        " A t-score is similar to a z-score but is used when the sample size is small and the population standard deviation is unknown.\n",
        "\n",
        " t score measure by\n",
        "\n",
        " The t-score is calculated using the formula:\n",
        "\n",
        "$$ t = \\frac{(X - \\bar{X})}{(s/\\sqrt{n})} $$\n",
        "\n",
        "where:\n",
        "- \\( X \\) = individual score\n",
        "- \\( \\bar{X} \\) = sample mean\n",
        "- \\( s \\) = sample standard deviation\n",
        "- \\( n \\) = sample size\n",
        "\n",
        "we use z score when\n",
        "Typically used when the sample size is large (usually\n",
        ">\n",
        "30\n",
        "n>30).\n",
        "\n",
        " Applied when the population standard deviation (\n",
        "σ) is known.\n",
        "\n",
        " Best suited when the data follows a normal distribution.\n",
        "\n",
        "\n",
        " we use t score when\n",
        "\n",
        "  Typically used when the sample size is small (usually\n",
        "<\n",
        "30\n",
        "n<30).\n",
        "\n",
        " when the population standard deviation is unknown and must be estimated from the sample.\n",
        "\n",
        " Also assumes that the data is approximately normally distributed, especially with small sample sizes.\n",
        "\n",
        "\n",
        "\n"
      ],
      "metadata": {
        "id": "nbz6AGkFkLhP"
      }
    },
    {
      "cell_type": "markdown",
      "source": [
        "9. : Given a sample mean of 105, a population mean of 100, a standard deviation of 15, and a sample\n",
        "size of 25, calculate the z-score and p-value. Based on a significance level of 0.05, do you reject or fail to\n",
        "reject the null hypothesis?\n",
        "\n",
        " Task: Write Python code to calculate the z-score and p-value for the given data.\n",
        "\n",
        "Objective: Apply the formula for the z-score and interpret the p-value for hypothesis testing."
      ],
      "metadata": {
        "id": "sJ93QFy1pWfN"
      }
    },
    {
      "cell_type": "code",
      "source": [
        "import scipy.stats as stats\n",
        "import numpy as np\n",
        "\n",
        "# Given data\n",
        "sample_mean = 105\n",
        "population_mean = 100\n",
        "std_dev = 15\n",
        "sample_size = 25\n",
        "\n",
        "# Calculate the z-score\n",
        "z_score = (sample_mean - population_mean) / (std_dev / np.sqrt(sample_size))\n",
        "\n",
        "# Calculate the p-value for a one-tailed test\n",
        "p_value = 1 - stats.norm.cdf(z_score)\n",
        "\n",
        "# Print the results\n",
        "print(f\"Z-score: {z_score:.2f}\")\n",
        "print(f\"P-value: {p_value:.4f}\")\n",
        "\n",
        "# Determine whether to reject or fail to reject the null hypothesis\n",
        "alpha = 0.05\n",
        "if p_value < alpha:\n",
        "    print(\"Reject the null hypothesis.\")\n",
        "else:\n",
        "    print(\"Fail to reject the null hypothesis.\")\n"
      ],
      "metadata": {
        "colab": {
          "base_uri": "https://localhost:8080/"
        },
        "id": "XQPKWH6NVXpa",
        "outputId": "320583b1-9f1b-4bff-e6b0-274ef086deed"
      },
      "execution_count": null,
      "outputs": [
        {
          "output_type": "stream",
          "name": "stdout",
          "text": [
            "Z-score: 1.67\n",
            "P-value: 0.0478\n",
            "Reject the null hypothesis.\n"
          ]
        }
      ]
    },
    {
      "cell_type": "markdown",
      "source": [
        "10.   Simulate a binomial distribution with 10 trials and a probability of success of 0.6 using Python.\n",
        "Generate 1,000 samples and plot the distribution. What is the expected mean and variance?\n",
        "\n",
        "Task: Use Python to generate the data, plot the distribution, and calculate the mean and variance.\n",
        "\n",
        "Objective: Understand the properties of a binomial distribution and verify them through simulation."
      ],
      "metadata": {
        "id": "XDBz0FbBkX-L"
      }
    },
    {
      "cell_type": "code",
      "source": [
        "import numpy as np\n",
        "import matplotlib.pyplot as plt\n",
        "import seaborn as sns\n",
        "\n",
        "# Step 1: Parameters for the binomial distribution\n",
        "n_trials = 10\n",
        "p_success = 0.6\n",
        "n_samples = 1000\n",
        "\n",
        "# Step 2: Generate samples from the binomial distribution\n",
        "samples = np.random.binomial(n_trials, p_success, n_samples)\n",
        "\n",
        "# Step 3: Plot the histogram of the samples\n",
        "sns.set(style=\"whitegrid\")\n",
        "plt.figure(figsize=(10, 6))\n",
        "sns.histplot(samples, bins=np.arange(-0.5, n_trials + 1.5, 1), kde=False, stat=\"density\")\n",
        "plt.title('Histogram of Binomial Distribution Samples (n=10, p=0.6)')\n",
        "plt.xlabel('Number of Successes')\n",
        "plt.ylabel('Density')\n",
        "plt.xticks(range(n_trials + 1))\n",
        "plt.xlim(-0.5, n_trials + 0.5)\n",
        "plt.grid(axis='y')\n",
        "plt.show()\n",
        "\n",
        "# Step 4: Calculate the expected mean and variance\n",
        "expected_mean = n_trials * p_success\n",
        "expected_variance = n_trials * p_success * (1 - p_success)\n",
        "\n",
        "print(f'Expected Mean: {expected_mean}')\n",
        "print(f'Expected Variance: {expected_variance}')\n"
      ],
      "metadata": {
        "colab": {
          "base_uri": "https://localhost:8080/",
          "height": 608
        },
        "id": "piiyYvWVAOLl",
        "outputId": "f54a9636-c45e-4cb2-cf10-0bff4d134424"
      },
      "execution_count": null,
      "outputs": [
        {
          "output_type": "display_data",
          "data": {
            "text/plain": [
              "<Figure size 1000x600 with 1 Axes>"
            ],
            "image/png": "[encoded data removed]"
          },
          "metadata": {}
        },
        {
          "output_type": "stream",
          "name": "stdout",
          "text": [
            "Expected Mean: 6.0\n",
            "Expected Variance: 2.4000000000000004\n"
          ]
        }
      ]
    }
  ]
}